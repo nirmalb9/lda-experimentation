{
 "cells": [
  {
   "cell_type": "code",
   "execution_count": 3,
   "metadata": {},
   "outputs": [],
   "source": [
    "import pandas as pd\n",
    "\n",
    "data = pd.read_csv('abcnews-date-text.csv', error_bad_lines=False)\n",
    "data_text = data[['headline_text']]\n",
    "data_text['index'] = data_text.index\n",
    "documents = data_text"
   ]
  },
  {
   "cell_type": "code",
   "execution_count": 4,
   "metadata": {},
   "outputs": [
    {
     "name": "stdout",
     "output_type": "stream",
     "text": [
      "1103663\n",
      "                                       headline_text  index\n",
      "0  aba decides against community broadcasting lic...      0\n",
      "1     act fire witnesses must be aware of defamation      1\n",
      "2     a g calls for infrastructure protection summit      2\n",
      "3           air nz staff in aust strike for pay rise      3\n",
      "4      air nz strike to affect australian travellers      4\n"
     ]
    }
   ],
   "source": [
    "print(len(documents))\n",
    "print(documents[:5])"
   ]
  },
  {
   "cell_type": "markdown",
   "metadata": {},
   "source": [
    "We have to perform the following steps:\n",
    "1. Tokenization- Split the text into sentences and the sentences into words. Lowercase the words and remove punctuation.\n",
    "2. Words that have fewer than 3 characters are removed\n",
    "3. All stopwords are removed (\"a\", \"the\", \"an\")\n",
    "4. Words are lemmatized- words in third person are changed to first person and verbs in past and future tenses are changed into present tense\n",
    "5. Words are stemmed - words are reduced to their root form"
   ]
  },
  {
   "cell_type": "code",
   "execution_count": 7,
   "metadata": {},
   "outputs": [],
   "source": [
    "# Import libraries\n",
    "import gensim\n",
    "from gensim.utils import simple_preprocess\n",
    "from gensim.parsing.preprocessing import STOPWORDS\n",
    "from nltk.stem import WordNetLemmatizer, SnowballStemmer\n",
    "from nltk.stem.porter import *\n",
    "import numpy as np\n",
    "np.random.seed(2018)\n"
   ]
  },
  {
   "cell_type": "code",
   "execution_count": 8,
   "metadata": {},
   "outputs": [],
   "source": [
    "import nltk"
   ]
  },
  {
   "cell_type": "code",
   "execution_count": 9,
   "metadata": {},
   "outputs": [
    {
     "name": "stderr",
     "output_type": "stream",
     "text": [
      "[nltk_data] Downloading package wordnet to /Users/nirmalb/nltk_data...\n",
      "[nltk_data]   Unzipping corpora/wordnet.zip.\n"
     ]
    },
    {
     "data": {
      "text/plain": [
       "True"
      ]
     },
     "execution_count": 9,
     "metadata": {},
     "output_type": "execute_result"
    }
   ],
   "source": [
    "nltk.download('wordnet')"
   ]
  },
  {
   "cell_type": "code",
   "execution_count": 21,
   "metadata": {},
   "outputs": [],
   "source": [
    "stemmer = PorterStemmer()"
   ]
  },
  {
   "cell_type": "code",
   "execution_count": 22,
   "metadata": {},
   "outputs": [],
   "source": [
    "# Function to lemmatize and stem preprocess steps on the dataset. \n",
    "def lemmatize_stemming(text):\n",
    "    return stemmer.stem(WordNetLemmatizer().lemmatize(text, pos='v'))\n",
    "\n",
    "def preprocess(text):\n",
    "    result=[]\n",
    "    for token in gensim.utils.simple_preprocess(text):\n",
    "        if token not in gensim.parsing.preprocessing.STOPWORDS and len(token) > 3:\n",
    "            result.append(lemmatize_stemming(token))\n",
    "    return result"
   ]
  },
  {
   "cell_type": "code",
   "execution_count": 23,
   "metadata": {},
   "outputs": [
    {
     "name": "stdout",
     "output_type": "stream",
     "text": [
      "original document: \n",
      "['rain', 'helps', 'dampen', 'bushfires']\n",
      "\n",
      "\n",
      " tokenized and lemmatized document: \n",
      "['rain', 'help', 'dampen', 'bushfir']\n"
     ]
    }
   ],
   "source": [
    "# Example of preprocessing\n",
    "\n",
    "doc_sample = documents[documents['index'] == 4310].values[0][0]\n",
    "\n",
    "print('original document: ')\n",
    "words = []\n",
    "for word in doc_sample.split(' '):\n",
    "    words.append(word)\n",
    "print(words)\n",
    "print('\\n\\n tokenized and lemmatized document: ')\n",
    "print(preprocess(doc_sample))"
   ]
  },
  {
   "cell_type": "code",
   "execution_count": 24,
   "metadata": {},
   "outputs": [
    {
     "data": {
      "text/plain": [
       "0               [decid, commun, broadcast, licenc]\n",
       "1                               [wit, awar, defam]\n",
       "2           [call, infrastructur, protect, summit]\n",
       "3                      [staff, aust, strike, rise]\n",
       "4             [strike, affect, australian, travel]\n",
       "5               [ambiti, olsson, win, tripl, jump]\n",
       "6           [antic, delight, record, break, barca]\n",
       "7    [aussi, qualifi, stosur, wast, memphi, match]\n",
       "8            [aust, address, secur, council, iraq]\n",
       "9                         [australia, lock, timet]\n",
       "Name: headline_text, dtype: object"
      ]
     },
     "execution_count": 24,
     "metadata": {},
     "output_type": "execute_result"
    }
   ],
   "source": [
    "# We are going to preprocess the headline text, saving the results as 'processed documents'\n",
    "processed_docs = documents['headline_text'].map(preprocess)\n",
    "processed_docs[:10]"
   ]
  },
  {
   "cell_type": "code",
   "execution_count": 25,
   "metadata": {},
   "outputs": [
    {
     "name": "stdout",
     "output_type": "stream",
     "text": [
      "Dictionary(62293 unique tokens: ['broadcast', 'commun', 'decid', 'licenc', 'awar']...)\n",
      "0 broadcast\n",
      "1 commun\n",
      "2 decid\n",
      "3 licenc\n",
      "4 awar\n",
      "5 defam\n",
      "6 wit\n",
      "7 call\n",
      "8 infrastructur\n",
      "9 protect\n",
      "10 summit\n"
     ]
    }
   ],
   "source": [
    "# Create a dictionary containing the word frequency in the training set \n",
    "\n",
    "dictionary = gensim.corpora.Dictionary(processed_docs) # initialize the dictionary\n",
    "count = 0\n",
    "print(dictionary)\n",
    "for k,v in dictionary.iteritems():\n",
    "    print(k,v)\n",
    "    count += 1\n",
    "    if count > 10:\n",
    "        break\n"
   ]
  },
  {
   "cell_type": "code",
   "execution_count": 27,
   "metadata": {},
   "outputs": [],
   "source": [
    "# Now, we are going to filter out tokens that appear in a. less than 15 documents or b. more than 50% documents, c. then from there only keep the 1 mil most frequent tokens\n",
    "dictionary.filter_extremes(no_below=15, no_above=0.5, keep_n=100000)"
   ]
  },
  {
   "cell_type": "code",
   "execution_count": 28,
   "metadata": {},
   "outputs": [
    {
     "data": {
      "text/plain": [
       "[(76, 1), (112, 1), (484, 1), (4022, 1)]"
      ]
     },
     "execution_count": 28,
     "metadata": {},
     "output_type": "execute_result"
    }
   ],
   "source": [
    "# Now, for each document that was initially present, we are going to create a dictionary reporting how many words\n",
    "# and how many times these words appear. Save this to 'bow_corpus', then check our selected document earlier. \n",
    "\n",
    "bow_corpus = [dictionary.doc2bow(doc) for doc in processed_docs]\n",
    "bow_corpus[4310]"
   ]
  },
  {
   "cell_type": "code",
   "execution_count": 31,
   "metadata": {},
   "outputs": [
    {
     "name": "stdout",
     "output_type": "stream",
     "text": [
      "Word 76 (\"bushfir\") appears 1 time.\n",
      "Word 112 (\"help\") appears 1 time.\n",
      "Word 484 (\"rain\") appears 1 time.\n",
      "Word 4022 (\"dampen\") appears 1 time.\n"
     ]
    }
   ],
   "source": [
    "# Preview the bag of words for our sample document that we printed above\n",
    "\n",
    "bow_doc_4310 = bow_corpus[4310]\n",
    "for i in range(len(bow_doc_4310)):\n",
    "    print(\"Word {} (\\\"{}\\\") appears {} time.\".format(bow_doc_4310[i][0], dictionary[bow_doc_4310[i][0]], bow_doc_4310[i][1]))"
   ]
  },
  {
   "cell_type": "code",
   "execution_count": 33,
   "metadata": {},
   "outputs": [
    {
     "name": "stdout",
     "output_type": "stream",
     "text": [
      "[(0, 0.5903873663261261),\n",
      " (1, 0.38522586675616677),\n",
      " (2, 0.49747840165121515),\n",
      " (3, 0.5055284652272439)]\n"
     ]
    }
   ],
   "source": [
    "# Create a TFIDF model to count the words that are key differentiators but also appear often enough\n",
    "\n",
    "from gensim import corpora, models\n",
    "tfidf = models.TfidfModel(bow_corpus)\n",
    "corpus_tfidf = tfidf[bow_corpus]\n",
    "\n",
    "from pprint import pprint\n",
    "for doc in corpus_tfidf:\n",
    "    pprint(doc)\n",
    "    break"
   ]
  },
  {
   "cell_type": "code",
   "execution_count": 35,
   "metadata": {},
   "outputs": [
    {
     "name": "stdout",
     "output_type": "stream",
     "text": [
      "Topic: 0 Word: 0.044*\"australian\" + 0.023*\"sydney\" + 0.019*\"miss\" + 0.014*\"nation\" + 0.013*\"famili\" + 0.012*\"abus\" + 0.011*\"search\" + 0.011*\"child\" + 0.010*\"royal\" + 0.009*\"releas\"\n",
      "Topic: 1 Word: 0.024*\"queensland\" + 0.022*\"trump\" + 0.020*\"open\" + 0.013*\"win\" + 0.013*\"break\" + 0.012*\"fall\" + 0.011*\"leagu\" + 0.010*\"elect\" + 0.009*\"hill\" + 0.009*\"john\"\n",
      "Topic: 2 Word: 0.027*\"kill\" + 0.027*\"crash\" + 0.021*\"die\" + 0.020*\"attack\" + 0.014*\"driver\" + 0.014*\"train\" + 0.014*\"dead\" + 0.014*\"road\" + 0.012*\"near\" + 0.011*\"violenc\"\n",
      "Topic: 3 Word: 0.021*\"warn\" + 0.018*\"test\" + 0.016*\"water\" + 0.015*\"live\" + 0.014*\"price\" + 0.013*\"australia\" + 0.013*\"high\" + 0.013*\"flood\" + 0.012*\"rise\" + 0.010*\"record\"\n",
      "Topic: 4 Word: 0.023*\"market\" + 0.019*\"canberra\" + 0.018*\"final\" + 0.015*\"share\" + 0.015*\"work\" + 0.014*\"time\" + 0.013*\"news\" + 0.013*\"industri\" + 0.011*\"port\" + 0.010*\"worker\"\n",
      "Topic: 5 Word: 0.020*\"plan\" + 0.018*\"melbourn\" + 0.018*\"council\" + 0.015*\"power\" + 0.010*\"victorian\" + 0.009*\"land\" + 0.009*\"hospit\" + 0.008*\"rescu\" + 0.008*\"western\" + 0.008*\"head\"\n",
      "Topic: 6 Word: 0.054*\"polic\" + 0.028*\"interview\" + 0.015*\"arrest\" + 0.014*\"investig\" + 0.014*\"drug\" + 0.014*\"jail\" + 0.014*\"charg\" + 0.012*\"death\" + 0.012*\"peopl\" + 0.012*\"shoot\"\n",
      "Topic: 7 Word: 0.035*\"court\" + 0.023*\"charg\" + 0.023*\"face\" + 0.022*\"woman\" + 0.022*\"adelaid\" + 0.017*\"murder\" + 0.015*\"trial\" + 0.015*\"hous\" + 0.014*\"accus\" + 0.013*\"lose\"\n",
      "Topic: 8 Word: 0.036*\"australia\" + 0.026*\"year\" + 0.023*\"south\" + 0.020*\"north\" + 0.017*\"china\" + 0.015*\"elect\" + 0.015*\"west\" + 0.014*\"fight\" + 0.013*\"tasmania\" + 0.011*\"beat\"\n",
      "Topic: 9 Word: 0.019*\"govern\" + 0.018*\"rural\" + 0.017*\"countri\" + 0.016*\"fund\" + 0.015*\"hour\" + 0.015*\"health\" + 0.014*\"state\" + 0.011*\"servic\" + 0.011*\"gold\" + 0.011*\"say\"\n"
     ]
    }
   ],
   "source": [
    "lda_model_tfidf = gensim.models.LdaMulticore(bow_corpus, num_topics=10, id2word=dictionary, passes=2, workers=4)\n",
    "for idx, topic in lda_model_tfidf.print_topics(-1):\n",
    "    print('Topic: {} Word: {}'.format(idx, topic))"
   ]
  },
  {
   "cell_type": "code",
   "execution_count": 36,
   "metadata": {},
   "outputs": [
    {
     "name": "stdout",
     "output_type": "stream",
     "text": [
      "Topic: 0 \n",
      "Words: 0.021*\"south\" + 0.019*\"market\" + 0.018*\"coast\" + 0.018*\"adelaid\" + 0.013*\"west\" + 0.013*\"share\" + 0.012*\"water\" + 0.012*\"gold\" + 0.012*\"flood\" + 0.011*\"break\"\n",
      "Topic: 1 \n",
      "Words: 0.050*\"australia\" + 0.035*\"australian\" + 0.025*\"world\" + 0.013*\"island\" + 0.011*\"live\" + 0.011*\"china\" + 0.011*\"turnbul\" + 0.009*\"secur\" + 0.008*\"hobart\" + 0.008*\"drum\"\n",
      "Topic: 2 \n",
      "Words: 0.024*\"council\" + 0.021*\"hous\" + 0.020*\"nation\" + 0.017*\"rural\" + 0.017*\"plan\" + 0.013*\"deal\" + 0.013*\"commun\" + 0.013*\"indigen\" + 0.012*\"industri\" + 0.012*\"green\"\n",
      "Topic: 3 \n",
      "Words: 0.025*\"kill\" + 0.019*\"attack\" + 0.015*\"fight\" + 0.013*\"dead\" + 0.013*\"famili\" + 0.011*\"donald\" + 0.010*\"senat\" + 0.010*\"premier\" + 0.009*\"crash\" + 0.009*\"presid\"\n",
      "Topic: 4 \n",
      "Words: 0.025*\"elect\" + 0.023*\"govern\" + 0.021*\"countri\" + 0.018*\"hour\" + 0.018*\"test\" + 0.015*\"school\" + 0.014*\"tasmanian\" + 0.013*\"busi\" + 0.012*\"feder\" + 0.012*\"labor\"\n",
      "Topic: 5 \n",
      "Words: 0.024*\"chang\" + 0.021*\"canberra\" + 0.015*\"worker\" + 0.014*\"farm\" + 0.012*\"port\" + 0.011*\"urg\" + 0.011*\"mine\" + 0.011*\"review\" + 0.010*\"royal\" + 0.010*\"say\"\n",
      "Topic: 6 \n",
      "Words: 0.024*\"trump\" + 0.020*\"call\" + 0.018*\"health\" + 0.018*\"hospit\" + 0.017*\"state\" + 0.016*\"rise\" + 0.015*\"price\" + 0.015*\"report\" + 0.013*\"news\" + 0.013*\"protest\"\n",
      "Topic: 7 \n",
      "Words: 0.036*\"charg\" + 0.033*\"court\" + 0.025*\"murder\" + 0.022*\"face\" + 0.021*\"north\" + 0.018*\"miss\" + 0.018*\"accus\" + 0.016*\"woman\" + 0.015*\"jail\" + 0.014*\"trial\"\n",
      "Topic: 8 \n",
      "Words: 0.063*\"polic\" + 0.028*\"interview\" + 0.019*\"die\" + 0.015*\"crash\" + 0.014*\"investig\" + 0.013*\"death\" + 0.013*\"driver\" + 0.011*\"offic\" + 0.009*\"shoot\" + 0.009*\"speak\"\n",
      "Topic: 9 \n",
      "Words: 0.023*\"queensland\" + 0.023*\"year\" + 0.016*\"final\" + 0.015*\"open\" + 0.015*\"win\" + 0.012*\"time\" + 0.012*\"lose\" + 0.012*\"return\" + 0.011*\"leagu\" + 0.008*\"week\"\n"
     ]
    }
   ],
   "source": [
    "for idx, topic in lda_model.print_topics(-1):\n",
    "    print('Topic: {} \\nWords: {}'.format(idx, topic))"
   ]
  },
  {
   "cell_type": "code",
   "execution_count": 37,
   "metadata": {},
   "outputs": [
    {
     "data": {
      "text/plain": [
       "['rain', 'help', 'dampen', 'bushfir']"
      ]
     },
     "execution_count": 37,
     "metadata": {},
     "output_type": "execute_result"
    }
   ],
   "source": [
    "# Performance evaluation by classifying sample document using LDA bag of words model\n",
    "processed_docs[4310]"
   ]
  },
  {
   "cell_type": "code",
   "execution_count": 39,
   "metadata": {},
   "outputs": [
    {
     "name": "stdout",
     "output_type": "stream",
     "text": [
      "\n",
      "Score: 0.8199627995491028\t \n",
      "Topic: 0.021*\"south\" + 0.019*\"market\" + 0.018*\"coast\" + 0.018*\"adelaid\" + 0.013*\"west\" + 0.013*\"share\" + 0.012*\"water\" + 0.012*\"gold\" + 0.012*\"flood\" + 0.011*\"break\"\n",
      "\n",
      "Score: 0.020007647573947906\t \n",
      "Topic: 0.025*\"elect\" + 0.023*\"govern\" + 0.021*\"countri\" + 0.018*\"hour\" + 0.018*\"test\" + 0.015*\"school\" + 0.014*\"tasmanian\" + 0.013*\"busi\" + 0.012*\"feder\" + 0.012*\"labor\"\n",
      "\n",
      "Score: 0.020005006343126297\t \n",
      "Topic: 0.024*\"council\" + 0.021*\"hous\" + 0.020*\"nation\" + 0.017*\"rural\" + 0.017*\"plan\" + 0.013*\"deal\" + 0.013*\"commun\" + 0.013*\"indigen\" + 0.012*\"industri\" + 0.012*\"green\"\n",
      "\n",
      "Score: 0.0200045146048069\t \n",
      "Topic: 0.024*\"chang\" + 0.021*\"canberra\" + 0.015*\"worker\" + 0.014*\"farm\" + 0.012*\"port\" + 0.011*\"urg\" + 0.011*\"mine\" + 0.011*\"review\" + 0.010*\"royal\" + 0.010*\"say\"\n",
      "\n",
      "Score: 0.020003892481327057\t \n",
      "Topic: 0.063*\"polic\" + 0.028*\"interview\" + 0.019*\"die\" + 0.015*\"crash\" + 0.014*\"investig\" + 0.013*\"death\" + 0.013*\"driver\" + 0.011*\"offic\" + 0.009*\"shoot\" + 0.009*\"speak\"\n",
      "\n",
      "Score: 0.02000385895371437\t \n",
      "Topic: 0.025*\"kill\" + 0.019*\"attack\" + 0.015*\"fight\" + 0.013*\"dead\" + 0.013*\"famili\" + 0.011*\"donald\" + 0.010*\"senat\" + 0.010*\"premier\" + 0.009*\"crash\" + 0.009*\"presid\"\n",
      "\n",
      "Score: 0.02000325731933117\t \n",
      "Topic: 0.036*\"charg\" + 0.033*\"court\" + 0.025*\"murder\" + 0.022*\"face\" + 0.021*\"north\" + 0.018*\"miss\" + 0.018*\"accus\" + 0.016*\"woman\" + 0.015*\"jail\" + 0.014*\"trial\"\n",
      "\n",
      "Score: 0.02000306360423565\t \n",
      "Topic: 0.024*\"trump\" + 0.020*\"call\" + 0.018*\"health\" + 0.018*\"hospit\" + 0.017*\"state\" + 0.016*\"rise\" + 0.015*\"price\" + 0.015*\"report\" + 0.013*\"news\" + 0.013*\"protest\"\n",
      "\n",
      "Score: 0.020003028213977814\t \n",
      "Topic: 0.023*\"queensland\" + 0.023*\"year\" + 0.016*\"final\" + 0.015*\"open\" + 0.015*\"win\" + 0.012*\"time\" + 0.012*\"lose\" + 0.012*\"return\" + 0.011*\"leagu\" + 0.008*\"week\"\n",
      "\n",
      "Score: 0.020002951845526695\t \n",
      "Topic: 0.050*\"australia\" + 0.035*\"australian\" + 0.025*\"world\" + 0.013*\"island\" + 0.011*\"live\" + 0.011*\"china\" + 0.011*\"turnbul\" + 0.009*\"secur\" + 0.008*\"hobart\" + 0.008*\"drum\"\n"
     ]
    }
   ],
   "source": [
    "for index, score in sorted(lda_model[bow_corpus[4310]], key=lambda tup: -1*tup[1]):\n",
    "    print(\"\\nScore: {}\\t \\nTopic: {}\".format(score, lda_model.print_topic(index, 10)))"
   ]
  },
  {
   "cell_type": "code",
   "execution_count": null,
   "metadata": {},
   "outputs": [],
   "source": []
  }
 ],
 "metadata": {
  "kernelspec": {
   "display_name": "Python 3",
   "language": "python",
   "name": "python3"
  },
  "language_info": {
   "codemirror_mode": {
    "name": "ipython",
    "version": 3
   },
   "file_extension": ".py",
   "mimetype": "text/x-python",
   "name": "python",
   "nbconvert_exporter": "python",
   "pygments_lexer": "ipython3",
   "version": "3.7.4"
  }
 },
 "nbformat": 4,
 "nbformat_minor": 2
}
